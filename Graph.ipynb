{
 "cells": [
  {
   "cell_type": "code",
   "execution_count": 1,
   "metadata": {
    "collapsed": false,
    "deletable": true,
    "editable": true
   },
   "outputs": [],
   "source": [
    "from __future__ import print_function\n",
    "import numpy as np\n",
    "import tensorflow as tf"
   ]
  },
  {
   "cell_type": "code",
   "execution_count": 2,
   "metadata": {
    "collapsed": false,
    "deletable": true,
    "editable": true
   },
   "outputs": [
    {
     "data": {
      "text/plain": [
       "datetime.date(2017, 2, 27)"
      ]
     },
     "execution_count": 2,
     "metadata": {},
     "output_type": "execute_result"
    }
   ],
   "source": [
    "from datetime import date\n",
    "date.today()"
   ]
  },
  {
   "cell_type": "code",
   "execution_count": 3,
   "metadata": {
    "collapsed": true,
    "deletable": true,
    "editable": true
   },
   "outputs": [],
   "source": [
    "author = \"kyubyong. https://github.com/Kyubyong/tensorflow-exercises\""
   ]
  },
  {
   "cell_type": "code",
   "execution_count": 4,
   "metadata": {
    "collapsed": false,
    "deletable": true,
    "editable": true
   },
   "outputs": [
    {
     "data": {
      "text/plain": [
       "'1.0.0'"
      ]
     },
     "execution_count": 4,
     "metadata": {},
     "output_type": "execute_result"
    }
   ],
   "source": [
    "tf.__version__"
   ]
  },
  {
   "cell_type": "code",
   "execution_count": 5,
   "metadata": {
    "collapsed": false,
    "deletable": true,
    "editable": true
   },
   "outputs": [
    {
     "data": {
      "text/plain": [
       "'1.12.0'"
      ]
     },
     "execution_count": 5,
     "metadata": {},
     "output_type": "execute_result"
    }
   ],
   "source": [
    "np.__version__"
   ]
  },
  {
   "cell_type": "markdown",
   "metadata": {
    "deletable": true,
    "editable": true
   },
   "source": [
    "Q1-3. You are to implement the graph below. Complete the code."
   ]
  },
  {
   "cell_type": "markdown",
   "metadata": {
    "deletable": true,
    "editable": true
   },
   "source": [
    "<img src=\"figs/fig1.png\",width=500>"
   ]
  },
  {
   "cell_type": "code",
   "execution_count": 6,
   "metadata": {
    "collapsed": false,
    "deletable": true,
    "editable": true
   },
   "outputs": [
    {
     "name": "stdout",
     "output_type": "stream",
     "text": [
      "c = 6\n",
      "d = 5\n",
      "e = 1\n"
     ]
    }
   ],
   "source": [
    "# Q1. Create a graph\n",
    "g = ...\n",
    "\n",
    "with g.as_default():\n",
    "    # Define inputs\n",
    "    with tf.name_scope(\"inputs\"):\n",
    "        a = tf.constant(2, tf.int32, name=\"a\")\n",
    "        b = tf.constant(3, tf.int32, name=\"b\")\n",
    "\n",
    "    # Ops\n",
    "    with tf.name_scope(\"ops\"):\n",
    "        c = tf.multiply(a, b, name=\"c\")\n",
    "        d = tf.add(a, b, name=\"d\")\n",
    "        e = tf.subtract(c, d, name=\"e\")\n",
    "\n",
    "# Q2. Start a session\n",
    "sess = ...\n",
    "\n",
    "# Q3. Fetch c, d, e\n",
    "_c, _d, _e = ...\n",
    "print(\"c =\", _c)\n",
    "print(\"d =\", _d)\n",
    "print(\"e =\", _e)\n",
    "\n",
    "# Close the session\n",
    "sess.close()"
   ]
  },
  {
   "cell_type": "markdown",
   "metadata": {
    "deletable": true,
    "editable": true
   },
   "source": [
    "Q4-8. You are to implement the graph below. Complete the code."
   ]
  },
  {
   "cell_type": "markdown",
   "metadata": {
    "collapsed": true,
    "deletable": true,
    "editable": true
   },
   "source": [
    "<img src=\"figs/fig3.png\",width=500>"
   ]
  },
  {
   "cell_type": "code",
   "execution_count": 7,
   "metadata": {
    "collapsed": true,
    "deletable": true,
    "editable": true
   },
   "outputs": [],
   "source": [
    "tf.reset_default_graph()"
   ]
  },
  {
   "cell_type": "code",
   "execution_count": 8,
   "metadata": {
    "collapsed": false,
    "deletable": true,
    "editable": true
   },
   "outputs": [],
   "source": [
    "# Define inputs\n",
    "a = tf.Variable(tf.random_uniform([]))\n",
    "b_pl = tf.placeholder(tf.float32, [None])\n",
    "\n",
    "# Ops\n",
    "c = a * b_pl\n",
    "d = a + b_pl\n",
    "e = tf.reduce_sum(c)\n",
    "f = tf.reduce_mean(d)\n",
    "g = e - f\n",
    "\n",
    "# initialize variable(s)\n",
    "init = tf.global_variables_initializer()\n",
    "\n",
    "# Update variable\n",
    "update_op = tf.assign(a, a + g)\n",
    "\n",
    "# Q4. Create a (summary) writer to `asset`\n",
    "writer = ...\n",
    "\n",
    "#Q5. Add `a` to summary.scalar\n",
    "...\n",
    "\n",
    "#Q6. Add `c` and `d` to summary.histogram\n",
    "...\n",
    "\n",
    "#Q7. Merge all summaries.\n",
    "summaries = ...\n",
    "\n",
    "# Start a session\n",
    "sess = tf.Session()\n",
    "\n",
    "# Initialize Variable(s)\n",
    "sess.run(init)\n",
    "\n",
    "# Fetch the value of c, d, and e.\n",
    "for step in range(5):\n",
    "    _b = np.arange(10, dtype=np.float32)\n",
    "    _, summaries_proto = sess.run([update_op, summaries], {b_pl:_b})\n",
    "    \n",
    "    # Q8. Attach summaries_proto to TensorBoard.\n",
    "    ...\n",
    "    \n",
    "# Close the session\n",
    "sess.close()"
   ]
  },
  {
   "cell_type": "code",
   "execution_count": null,
   "metadata": {
    "collapsed": true,
    "deletable": true,
    "editable": true
   },
   "outputs": [],
   "source": []
  }
 ],
 "metadata": {
  "anaconda-cloud": {},
  "kernelspec": {
   "display_name": "Python 2",
   "language": "python",
   "name": "python2"
  },
  "language_info": {
   "codemirror_mode": {
    "name": "ipython",
    "version": 2
   },
   "file_extension": ".py",
   "mimetype": "text/x-python",
   "name": "python",
   "nbconvert_exporter": "python",
   "pygments_lexer": "ipython2",
   "version": "2.7.6"
  }
 },
 "nbformat": 4,
 "nbformat_minor": 1
}
