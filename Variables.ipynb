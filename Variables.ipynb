{
 "cells": [
  {
   "cell_type": "markdown",
   "metadata": {
    "deletable": true,
    "editable": true
   },
   "source": [
    "# Variables"
   ]
  },
  {
   "cell_type": "code",
   "execution_count": 1,
   "metadata": {
    "collapsed": true,
    "deletable": true,
    "editable": true
   },
   "outputs": [],
   "source": [
    "from __future__ import print_function\n",
    "import tensorflow as tf\n",
    "import numpy as np\n",
    "import matplotlib.pyplot as plt\n",
    "%matplotlib inline"
   ]
  },
  {
   "cell_type": "code",
   "execution_count": 2,
   "metadata": {
    "collapsed": false
   },
   "outputs": [
    {
     "data": {
      "text/plain": [
       "datetime.date(2017, 2, 24)"
      ]
     },
     "execution_count": 2,
     "metadata": {},
     "output_type": "execute_result"
    }
   ],
   "source": [
    "from datetime import date\n",
    "date.today()"
   ]
  },
  {
   "cell_type": "code",
   "execution_count": 3,
   "metadata": {
    "collapsed": true
   },
   "outputs": [],
   "source": [
    "author = \"kyubyong. https://github.com/Kyubyong/tensorflow-exercises\""
   ]
  },
  {
   "cell_type": "code",
   "execution_count": 4,
   "metadata": {
    "collapsed": false,
    "deletable": true,
    "editable": true
   },
   "outputs": [
    {
     "data": {
      "text/plain": [
       "'1.0.0'"
      ]
     },
     "execution_count": 4,
     "metadata": {},
     "output_type": "execute_result"
    }
   ],
   "source": [
    "tf.__version__"
   ]
  },
  {
   "cell_type": "code",
   "execution_count": 5,
   "metadata": {
    "collapsed": false,
    "deletable": true,
    "editable": true
   },
   "outputs": [
    {
     "data": {
      "text/plain": [
       "'1.12.0'"
      ]
     },
     "execution_count": 5,
     "metadata": {},
     "output_type": "execute_result"
    }
   ],
   "source": [
    "np.__version__"
   ]
  },
  {
   "cell_type": "markdown",
   "metadata": {},
   "source": [
    "NOTE on notation\n",
    "\n",
    "    _x, _y, _z, ...: NumPy 0-d or 1-d arrays\n",
    "    _X, _Y, _Z, ...: NumPy 2-d or higer dimensional arrays\n",
    "    x, y, z, ...: 0-d or 1-d tensors\n",
    "    X, Y, Z, ...: 2-d or higher dimensional tensors\n"
   ]
  },
  {
   "cell_type": "markdown",
   "metadata": {
    "deletable": true,
    "editable": true
   },
   "source": [
    "## Variables "
   ]
  },
  {
   "cell_type": "markdown",
   "metadata": {
    "deletable": true,
    "editable": true
   },
   "source": [
    "Q0. Create a variable `w` with an initial value of 1.0 and name `weight`.\n",
    "Then, print out the value of `w`."
   ]
  },
  {
   "cell_type": "code",
   "execution_count": 6,
   "metadata": {
    "collapsed": false,
    "deletable": true,
    "editable": true
   },
   "outputs": [
    {
     "name": "stdout",
     "output_type": "stream",
     "text": [
      "1.0\n"
     ]
    }
   ],
   "source": []
  },
  {
   "cell_type": "markdown",
   "metadata": {
    "deletable": true,
    "editable": true
   },
   "source": [
    "Q1. Complete this code."
   ]
  },
  {
   "cell_type": "code",
   "execution_count": 7,
   "metadata": {
    "collapsed": false,
    "deletable": true,
    "editable": true
   },
   "outputs": [
    {
     "name": "stdout",
     "output_type": "stream",
     "text": [
      "1.0 =>2.0 =>3.0 =>4.0 =>5.0 =>6.0 =>7.0 =>8.0 =>9.0 =>10.0 =>"
     ]
    }
   ],
   "source": [
    "# Create a variable w.\n",
    "w = tf.Variable(1.0, name=\"Weight\")\n",
    "\n",
    "# Q. Add 1 to w and assign the value to w.\n",
    "assign_op = ...\n",
    "\n",
    "with tf.Session() as sess:\n",
    "    sess.run(w.initializer)\n",
    "    for _ in range(10):\n",
    "        print(sess.run(w), \"=>\", end=\"\")\n",
    "        sess.run(assign_op)\n",
    "        \n"
   ]
  },
  {
   "cell_type": "markdown",
   "metadata": {
    "deletable": true,
    "editable": true
   },
   "source": [
    "Q2. Complete this code."
   ]
  },
  {
   "cell_type": "code",
   "execution_count": 8,
   "metadata": {
    "collapsed": false,
    "deletable": true,
    "editable": true
   },
   "outputs": [
    {
     "name": "stdout",
     "output_type": "stream",
     "text": [
      "6.0\n"
     ]
    }
   ],
   "source": [
    "w1 = tf.Variable(1.0)\n",
    "w2 = tf.Variable(2.0)\n",
    "w3 = tf.Variable(3.0)\n",
    "\n",
    "out = w1 + w2 + w3\n",
    "\n",
    "# Q. Add an Op to initialize global variables.\n",
    "init_op = ...\n",
    "\n",
    "with tf.Session() as sess:\n",
    "    sess.run(init_op) # Initialize all variables.\n",
    "    print(sess.run(out))\n"
   ]
  },
  {
   "cell_type": "markdown",
   "metadata": {
    "collapsed": true,
    "deletable": true,
    "editable": true
   },
   "source": [
    "Q3-4. Complete this code."
   ]
  },
  {
   "cell_type": "code",
   "execution_count": 9,
   "metadata": {
    "collapsed": false,
    "deletable": true,
    "editable": true
   },
   "outputs": [
    {
     "name": "stdout",
     "output_type": "stream",
     "text": [
      "[[-1.77987027  0.15173827  0.29789153 -0.0687403  -0.82471323  0.74895507\n",
      "   0.17162903  1.33624291  0.49532315  1.82508922]]\n",
      "[[-3.55974054  0.30347654  0.59578305 -0.1374806  -1.64942646  1.49791014\n",
      "   0.34325805  2.67248583  0.9906463   3.65017843]]\n"
     ]
    }
   ],
   "source": [
    "V = tf.Variable(tf.truncated_normal([1, 10]))\n",
    "# Q3. Initialize `W` with 2 * W\n",
    "W = ...\n",
    "\n",
    "# Q4. Add an Op to initialize global variables.\n",
    "init_op = tf.global_variables_initializer()\n",
    "with tf.Session() as sess:\n",
    "    sess.run(init_op) # Initialize all variables.\n",
    "    _V, _W = sess.run([V, W])\n",
    "    print(_V)\n",
    "    print(_W)\n",
    "    assert np.array_equiv(_V * 2.0, _W)\n",
    "\n",
    "# Compare the value of `W` with Z = 2 * V. "
   ]
  },
  {
   "cell_type": "markdown",
   "metadata": {
    "collapsed": true,
    "deletable": true,
    "editable": true
   },
   "source": [
    "Q5-8. Complete this code."
   ]
  },
  {
   "cell_type": "code",
   "execution_count": 10,
   "metadata": {
    "collapsed": false,
    "deletable": true,
    "editable": true
   },
   "outputs": [
    {
     "name": "stdout",
     "output_type": "stream",
     "text": [
      "Q5. Weight:0\n",
      "Q6. Weight\n",
      "Q7. <dtype: 'float32_ref'>\n",
      "Q8. [2, 2]\n",
      "Q9. 2\n",
      "Q10. True\n"
     ]
    }
   ],
   "source": [
    "g = tf.Graph()\n",
    "with g.as_default():\n",
    "    W = tf.Variable([[0,1],[2,3]], name=\"Weight\", dtype=tf.float32)\n",
    "    # Q5. Print the name of `W`.\n",
    "    print(\"Q5.\", ...)\n",
    "    # Q6. Print the name of the op of `W`.\n",
    "    print(\"Q6.\", ...)\n",
    "    # Q7. Print the data type of `w`.\n",
    "    print(\"Q7.\", ...)\n",
    "    # Q8. Print the shape of `w`.\n",
    "    print(\"Q8.\", ...)\n",
    "    # Q9. Print the rank (or ndims) of `W`.\n",
    "    print(\"Q9.\", ...)\n",
    "    # Q10. Check if the graph of `W` is the same as `g`.\n",
    "    print(\"Q10.\", ...)\n"
   ]
  },
  {
   "cell_type": "markdown",
   "metadata": {
    "collapsed": true,
    "deletable": true,
    "editable": true
   },
   "source": [
    "## Variable helper functions "
   ]
  },
  {
   "cell_type": "markdown",
   "metadata": {
    "deletable": true,
    "editable": true
   },
   "source": [
    "Q11-15. Complete this code."
   ]
  },
  {
   "cell_type": "code",
   "execution_count": 11,
   "metadata": {
    "collapsed": false,
    "deletable": true,
    "editable": true
   },
   "outputs": [
    {
     "name": "stdout",
     "output_type": "stream",
     "text": [
      "global variable => weight1:0\n",
      "global variable => weight2:0\n",
      "global variable => weight3:0\n",
      "trainable_variable => weight1:0\n",
      "trainable_variable => weight3:0\n"
     ]
    }
   ],
   "source": [
    "tf.reset_default_graph()\n",
    "\n",
    "w1 = tf.Variable(1.0, name=\"weight1\")\n",
    "w2 = tf.Variable(2.0, name=\"weight2\", trainable=False)\n",
    "w3 = tf.Variable(3.0, name=\"weight3\")\n",
    "\n",
    "with tf.Session() as sess:\n",
    "    # Q11. Initialize the variables w1 and w2.\n",
    "    sess.run(...)\n",
    "    \n",
    "    # Q12. Print the name of all global variables \n",
    "    for v in tf.global_variables():\n",
    "        print(\"global variable =>\", ...)\n",
    "    \n",
    "    # Q13. Print the name of all trainable variables\n",
    "    for v in tf.trainable_variables():\n",
    "        print(\"trainable_variable =>\", ...)\n",
    "    \n",
    "        \n"
   ]
  },
  {
   "cell_type": "markdown",
   "metadata": {
    "collapsed": true,
    "deletable": true,
    "editable": true
   },
   "source": [
    "## Saving and Restoring Variables "
   ]
  },
  {
   "cell_type": "markdown",
   "metadata": {
    "deletable": true,
    "editable": true
   },
   "source": [
    "Q14-15. This is a simple example code to find the coefficient of a linear function. (Here y = 2x).\n",
    "Complete the code."
   ]
  },
  {
   "cell_type": "code",
   "execution_count": 12,
   "metadata": {
    "collapsed": false,
    "deletable": true,
    "editable": true
   },
   "outputs": [
    {
     "name": "stdout",
     "output_type": "stream",
     "text": [
      "1.06684 =>Saved successfully\n",
      "1.5197 =>Saved successfully\n",
      "1.74107 =>Saved successfully\n",
      "1.87005 =>Saved successfully\n",
      "1.93196 =>Saved successfully\n",
      "1.96433 =>Saved successfully\n",
      "1.98112 =>Saved successfully\n",
      "1.99044 =>Saved successfully\n",
      "1.9952 =>Saved successfully\n",
      "1.99749 =>Saved successfully\n",
      "['my-model-7000.data-00000-of-00001', 'my-model-10000.data-00000-of-00001', 'my-model-6000.meta', 'my-model-8000.data-00000-of-00001', 'my-model-10000.index', 'checkpoint', 'my-model-10000.meta', 'my-model-8000.meta', 'my-model-7000.index', 'my-model-9000.meta', 'my-model-6000.index', 'my-model-9000.index', 'my-model-8000.index', 'my-model-7000.meta', 'my-model-9000.data-00000-of-00001', 'my-model-6000.data-00000-of-00001']\n",
      "model/my-model-10000\n",
      "Restored succesfully!\n"
     ]
    }
   ],
   "source": [
    "tf.reset_default_graph()\n",
    "w = tf.Variable(0.2, 'weight') # <- This is what we want to find. The true value is 2.\n",
    "x = tf.random_uniform([1])\n",
    "y = 2. * x # Let's pretend we don't know the coefficient 2 here.\n",
    "y_hat = w * x\n",
    "loss = tf.squared_difference(y, y_hat)\n",
    "train_op = tf.train.GradientDescentOptimizer(0.001).minimize(loss)\n",
    "\n",
    "init_op = tf.global_variables_initializer()\n",
    "with tf.Session() as sess:\n",
    "    sess.run(init_op)\n",
    "    saver = tf.train.Saver()\n",
    "    for step in range(1, 10001):\n",
    "        sess.run(train_op)\n",
    "        \n",
    "        import os\n",
    "        if not os.path.exists('model'): os.mkdir('model') # Let's make a folder in order not to discrupt our current folder.\n",
    "            \n",
    "        if step % 1000 == 0:\n",
    "            print(sess.run(w), \"=>\", end=\"\")\n",
    "            \n",
    "            # Q14. Save the checkpoint file, giving it a base name of `model/my-model`\n",
    "            save_path = ...\n",
    "            print(\"Saved successfully\")\n",
    "    \n",
    "    print(os.listdir('model'))\n",
    "    # Q15. Find the filename of the latest saved checkpoint file.\n",
    "    # And if it exists, restore it.\n",
    "    ckpt = tf.train.latest_checkpoint('model')\n",
    "    print(ckpt)\n",
    "    if ckpt is not None:\n",
    "        ...\n",
    "        print(\"Restored succesfully!\")\n",
    "    \n",
    "    \n"
   ]
  },
  {
   "cell_type": "markdown",
   "metadata": {
    "deletable": true,
    "editable": true
   },
   "source": [
    "## Sharing Variables "
   ]
  },
  {
   "cell_type": "markdown",
   "metadata": {
    "deletable": true,
    "editable": true
   },
   "source": [
    "Q16. Complete this code."
   ]
  },
  {
   "cell_type": "code",
   "execution_count": 13,
   "metadata": {
    "collapsed": false,
    "deletable": true,
    "editable": true
   },
   "outputs": [],
   "source": [
    "g = tf.Graph()\n",
    "with g.as_default():\n",
    "    with tf.variable_scope(\"foo\"):\n",
    "        v = tf.get_variable(\"vv\", [1,])  # v.name == \"foo/vv:0\"\n",
    "        \n",
    "    #Q. Get the existing variable `v`\n",
    "    ...\n",
    "\n",
    "assert v1 == v    "
   ]
  },
  {
   "cell_type": "markdown",
   "metadata": {
    "deletable": true,
    "editable": true
   },
   "source": [
    "Q17. Predict the result of this code."
   ]
  },
  {
   "cell_type": "code",
   "execution_count": 2,
   "metadata": {
    "collapsed": false,
    "deletable": true,
    "editable": true
   },
   "outputs": [],
   "source": [
    "with tf.variable_scope(\"foo\"):\n",
    "    with tf.variable_scope(\"bar\"):\n",
    "        v = tf.get_variable(\"vv\", [1])\n",
    "        print(\"v.name =\", v.name)"
   ]
  },
  {
   "cell_type": "markdown",
   "metadata": {
    "deletable": true,
    "editable": true
   },
   "source": [
    "Q18. Complete this code."
   ]
  },
  {
   "cell_type": "code",
   "execution_count": 15,
   "metadata": {
    "collapsed": false,
    "deletable": true,
    "editable": true
   },
   "outputs": [
    {
     "name": "stdout",
     "output_type": "stream",
     "text": [
      "x =\n",
      " [[ 0.  1.  2.  3.]\n",
      " [ 4.  5.  6.  7.]]\n"
     ]
    }
   ],
   "source": [
    "value = [0, 1, 2, 3, 4, 5, 6, 7]\n",
    "# Q. Create an initializer with `value`.\n",
    "init = ...\n",
    "\n",
    "tf.reset_default_graph()\n",
    "x = tf.get_variable('x', shape=[2, 4], initializer=init)\n",
    "\n",
    "with tf.Session() as sess:\n",
    "    sess.run(x.initializer)\n",
    "    print(\"x =\\n\", sess.run(x))\n"
   ]
  },
  {
   "cell_type": "markdown",
   "metadata": {
    "deletable": true,
    "editable": true
   },
   "source": [
    "Q19. Complete this code."
   ]
  },
  {
   "cell_type": "code",
   "execution_count": 16,
   "metadata": {
    "collapsed": false,
    "deletable": true,
    "editable": true
   },
   "outputs": [
    {
     "name": "stdout",
     "output_type": "stream",
     "text": [
      "Make sure the mean -0.0291916 is close to 0\n",
      "Make sure the standard deviation 1.99621 is close to 2\n"
     ]
    }
   ],
   "source": [
    "# Q. Create an initializer with a normal distribution of mean equals 0 and standard deviation equals 2.\n",
    "init = ...\n",
    "\n",
    "tf.reset_default_graph()\n",
    "x = tf.get_variable('x', shape=[10, 1000], initializer=init)\n",
    "\n",
    "with tf.Session():\n",
    "    x.initializer.run()\n",
    "    _x = x.eval()\n",
    "    print(\"Make sure the mean\", np.mean(_x), \"is close to 0\" )\n",
    "    print(\"Make sure the standard deviation\", np.std(_x), \"is close to 2\" )\n",
    "    \n"
   ]
  },
  {
   "cell_type": "markdown",
   "metadata": {
    "deletable": true,
    "editable": true
   },
   "source": [
    "Q20. Complete this code."
   ]
  },
  {
   "cell_type": "code",
   "execution_count": 17,
   "metadata": {
    "collapsed": false,
    "deletable": true,
    "editable": true
   },
   "outputs": [
    {
     "data": {
      "image/png": "[encoded data removed]",
      "text/plain": [
       "<matplotlib.figure.Figure at 0x7f1388392990>"
      ]
     },
     "metadata": {},
     "output_type": "display_data"
    }
   ],
   "source": [
    "# Q. Create an initializer with a truncated normal distribution of mean equals 0 and standard deviation equals 2.\n",
    "init = ...\n",
    "\n",
    "tf.reset_default_graph()\n",
    "x = tf.get_variable('x', shape=[1000,], initializer=init)\n",
    "\n",
    "with tf.Session():\n",
    "    x.initializer.run()\n",
    "    _x = x.eval()\n",
    "    plt.scatter(np.arange(1000), _x)\n",
    "    _avg = np.array([np.mean(_x)] * 1000)\n",
    "    _std = np.array([np.std(_x)] * 1000)\n",
    "    plt.plot(np.arange(1000), _avg, 'r-')\n",
    "    plt.plot(np.arange(1000), _avg + 2*_std, 'g-')\n",
    "    plt.plot(np.arange(1000), _avg - 2*_std, 'k-')\n",
    "    plt.legend(['mean', 'upper 2*std', 'lower 2*std'])\n",
    "    plt.show()\n",
    "# Note that few data points exceed the bounaries.\n"
   ]
  },
  {
   "cell_type": "markdown",
   "metadata": {
    "deletable": true,
    "editable": true
   },
   "source": [
    "Q21. Complete this code."
   ]
  },
  {
   "cell_type": "code",
   "execution_count": 18,
   "metadata": {
    "collapsed": false,
    "deletable": true,
    "editable": true
   },
   "outputs": [
    {
     "data": {
      "image/png": "[encoded data removed]",
      "text/plain": [
       "<matplotlib.figure.Figure at 0x7f138828e090>"
      ]
     },
     "metadata": {},
     "output_type": "display_data"
    }
   ],
   "source": [
    "# Q. Create an initializer with a random normal distribution of minimum 0 and maximum 1.\n",
    "init = ...\n",
    "\n",
    "tf.reset_default_graph()\n",
    "x = tf.get_variable('x', shape=[5000,], initializer=init)\n",
    "\n",
    "with tf.Session():\n",
    "    x.initializer.run()\n",
    "    _x = x.eval()\n",
    "    count, bins, ignored = plt.hist(_x, 20, normed=True)\n",
    "    plt.plot(bins, np.ones_like(bins), linewidth=2, color='r')\n",
    "    plt.show()\n",
    "# Note that few data points exceed the bounaries.\n"
   ]
  },
  {
   "cell_type": "code",
   "execution_count": 19,
   "metadata": {
    "collapsed": true,
    "deletable": true,
    "editable": true
   },
   "outputs": [],
   "source": [
    "# Check other initializers such as zeros_initializer, ones_initializer, or orthogonal_initializer, as well."
   ]
  },
  {
   "cell_type": "markdown",
   "metadata": {
    "collapsed": true,
    "deletable": true,
    "editable": true
   },
   "source": [
    "## Exporting and Importing Meta Graphs"
   ]
  },
  {
   "cell_type": "markdown",
   "metadata": {
    "deletable": true,
    "editable": true
   },
   "source": [
    "Q22. Complete the code. Make sure you've done questions 14-15."
   ]
  },
  {
   "cell_type": "code",
   "execution_count": 20,
   "metadata": {
    "collapsed": false,
    "deletable": true,
    "editable": true
   },
   "outputs": [
    {
     "name": "stdout",
     "output_type": "stream",
     "text": [
      "Of course, there're no variables since we reset the graph. See []\n",
      "Now we have a variable Variable:0\n"
     ]
    }
   ],
   "source": [
    "tf.reset_default_graph()\n",
    "print(\"Of course, there're no variables since we reset the graph. See\", tf.global_variables())\n",
    "with tf.Session() as sess:\n",
    "    # Q. Import the saved graph of `model/my-model-10000`.\n",
    "    new_saver = ...\n",
    "    \n",
    "    new_saver.restore(sess, 'model/my-model-10000')\n",
    "    \n",
    "    for v in tf.global_variables():\n",
    "        print(\"Now we have a variable\", v.name)\n"
   ]
  },
  {
   "cell_type": "code",
   "execution_count": null,
   "metadata": {
    "collapsed": true,
    "deletable": true,
    "editable": true
   },
   "outputs": [],
   "source": []
  }
 ],
 "metadata": {
  "anaconda-cloud": {},
  "kernelspec": {
   "display_name": "Python [conda root]",
   "language": "python",
   "name": "conda-root-py"
  },
  "language_info": {
   "codemirror_mode": {
    "name": "ipython",
    "version": 3
   },
   "file_extension": ".py",
   "mimetype": "text/x-python",
   "name": "python",
   "nbconvert_exporter": "python",
   "pygments_lexer": "ipython3",
   "version": "3.5.2"
  }
 },
 "nbformat": 4,
 "nbformat_minor": 0
}
