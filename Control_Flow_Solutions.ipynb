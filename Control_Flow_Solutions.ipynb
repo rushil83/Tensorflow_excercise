{
 "cells": [
  {
   "cell_type": "markdown",
   "metadata": {},
   "source": [
    "# Control Flow"
   ]
  },
  {
   "cell_type": "code",
   "execution_count": 1,
   "metadata": {
    "collapsed": true
   },
   "outputs": [],
   "source": [
    "from __future__ import print_function\n",
    "import tensorflow as tf\n",
    "import numpy as np"
   ]
  },
  {
   "cell_type": "code",
   "execution_count": 2,
   "metadata": {
    "collapsed": false
   },
   "outputs": [
    {
     "data": {
      "text/plain": [
       "datetime.date(2017, 2, 22)"
      ]
     },
     "execution_count": 2,
     "metadata": {},
     "output_type": "execute_result"
    }
   ],
   "source": [
    "from datetime import date\n",
    "date.today()"
   ]
  },
  {
   "cell_type": "code",
   "execution_count": 3,
   "metadata": {
    "collapsed": true
   },
   "outputs": [],
   "source": [
    "author = \"kyubyong. https://github.com/Kyubyong/tensorflow-exercises\""
   ]
  },
  {
   "cell_type": "code",
   "execution_count": 4,
   "metadata": {
    "collapsed": false
   },
   "outputs": [
    {
     "data": {
      "text/plain": [
       "'1.0.0'"
      ]
     },
     "execution_count": 4,
     "metadata": {},
     "output_type": "execute_result"
    }
   ],
   "source": [
    "tf.__version__"
   ]
  },
  {
   "cell_type": "code",
   "execution_count": 5,
   "metadata": {
    "collapsed": false
   },
   "outputs": [
    {
     "data": {
      "text/plain": [
       "'1.12.0'"
      ]
     },
     "execution_count": 5,
     "metadata": {},
     "output_type": "execute_result"
    }
   ],
   "source": [
    "np.__version__"
   ]
  },
  {
   "cell_type": "code",
   "execution_count": 6,
   "metadata": {
    "collapsed": true
   },
   "outputs": [],
   "source": [
    "sess = tf.InteractiveSession()"
   ]
  },
  {
   "cell_type": "markdown",
   "metadata": {},
   "source": [
    "NOTE on notation\n",
    "* _x, _y, _z, ...: NumPy 0-d or 1-d arrays\n",
    "* _X, _Y, _Z, ...: NumPy 2-d or higer dimensional arrays\n",
    "* x, y, z, ...: 0-d or 1-d tensors\n",
    "* X, Y, Z, ...: 2-d or higher dimensional tensors"
   ]
  },
  {
   "cell_type": "markdown",
   "metadata": {},
   "source": [
    "## Control Flow Operations"
   ]
  },
  {
   "cell_type": "markdown",
   "metadata": {},
   "source": [
    "Q1. Let x and y be random 0-D tensors. Return x + y \n",
    "if x < y and x - y otherwise."
   ]
  },
  {
   "cell_type": "code",
   "execution_count": 7,
   "metadata": {
    "collapsed": false
   },
   "outputs": [
    {
     "name": "stdout",
     "output_type": "stream",
     "text": [
      "1.75876\n",
      "0.9915587370245782\n"
     ]
    }
   ],
   "source": [
    "x = tf.random_uniform([])\n",
    "y = tf.random_uniform([])\n",
    "out = tf.cond(x < y, lambda: x + y,  lambda: x - y)\n",
    "print(out.eval())\n",
    "\n",
    "# This is equalvant to the following.\n",
    "_x = np.random.uniform()\n",
    "_y = np.random.uniform()\n",
    "_out = np.where(_x < _y, _x + _y, _x - _y)\n",
    "print(_out)"
   ]
  },
  {
   "cell_type": "markdown",
   "metadata": {},
   "source": [
    "Q2. Let x and y be 0-D int32 tensors randomly selected from 0 to 5. Return x + y 2 if x < y, x - y elif x > y, 0 otherwise."
   ]
  },
  {
   "cell_type": "code",
   "execution_count": 8,
   "metadata": {
    "collapsed": false
   },
   "outputs": [
    {
     "name": "stdout",
     "output_type": "stream",
     "text": [
      "1\n",
      "1\n"
     ]
    }
   ],
   "source": [
    "x = tf.random_uniform([], minval=0, maxval=5, dtype=tf.int32)\n",
    "y = tf.random_uniform([], minval=0, maxval=5, dtype=tf.int32)\n",
    "out = tf.case({x < y: lambda: x + y, x > y: lambda: x - y}, default=lambda: tf.constant(0), exclusive=True)\n",
    "print(out.eval())\n",
    "\n",
    "# Compare\n",
    "_x = np.random.randint(0, 5)\n",
    "_y = np.random.randint(0, 5)\n",
    "_out = np.select([_x > _y, _x < _y, _x == _y], [_x + _y, _x - _y, 0])\n",
    "print(_out)"
   ]
  },
  {
   "cell_type": "markdown",
   "metadata": {},
   "source": [
    "Q3. Let X be a tensor [[-1, -2, -3], [0, 1, 2]] and Y be a tensor of zeros with the same shape as X. Return a boolean tensor that yields True if X equals Y elementwise."
   ]
  },
  {
   "cell_type": "code",
   "execution_count": 9,
   "metadata": {
    "collapsed": false
   },
   "outputs": [
    {
     "name": "stdout",
     "output_type": "stream",
     "text": [
      "[[False False False]\n",
      " [ True False False]]\n"
     ]
    }
   ],
   "source": [
    "_X = np.array([[-1, -2, -3], [0, 1, 2]])\n",
    "X = tf.constant(_X)\n",
    "Y = tf.zeros_like(X)\n",
    "out = tf.equal(X, Y)\n",
    "print(out.eval())\n",
    "\n",
    "_Y = np.zeros_like(_X)\n",
    "assert np.allclose(out.eval(), np.equal(_X, _Y))"
   ]
  },
  {
   "cell_type": "markdown",
   "metadata": {},
   "source": [
    "## Logical Operators"
   ]
  },
  {
   "cell_type": "markdown",
   "metadata": {},
   "source": [
    "Q4. Given x and y below, return the truth value x AND/OR/XOR y element-wise."
   ]
  },
  {
   "cell_type": "code",
   "execution_count": 10,
   "metadata": {
    "collapsed": false
   },
   "outputs": [
    {
     "name": "stdout",
     "output_type": "stream",
     "text": [
      "[ True False False] [ True  True False] [False  True False]\n"
     ]
    }
   ],
   "source": [
    "x = tf.constant([True, False, False], tf.bool)\n",
    "y = tf.constant([True, True, False], tf.bool)\n",
    "out1 = tf.logical_and(x, y)\n",
    "out2 = tf.logical_or(x, y)\n",
    "out3 = tf.logical_xor(x, y)\n",
    "print(out1.eval(), out2.eval(), out3.eval())"
   ]
  },
  {
   "cell_type": "markdown",
   "metadata": {},
   "source": [
    "Q5. Given x, return the truth value of NOT x element-wise."
   ]
  },
  {
   "cell_type": "code",
   "execution_count": 11,
   "metadata": {
    "collapsed": false
   },
   "outputs": [
    {
     "name": "stdout",
     "output_type": "stream",
     "text": [
      "[False  True  True]\n"
     ]
    }
   ],
   "source": [
    "x = tf.constant([True, False, False], tf.bool)\n",
    "out = tf.logical_not(x)\n",
    "print(out.eval())"
   ]
  },
  {
   "cell_type": "markdown",
   "metadata": {},
   "source": [
    "## Comparison Operators"
   ]
  },
  {
   "cell_type": "markdown",
   "metadata": {},
   "source": [
    "Q6. Let X be a tensor [[-1, -2, -3], [0, 1, 2]] and Y be a tensor of zeros with the same shape as x. Return a boolean tensor that yields True if X does not equal Y elementwise."
   ]
  },
  {
   "cell_type": "code",
   "execution_count": 12,
   "metadata": {
    "collapsed": false
   },
   "outputs": [
    {
     "name": "stdout",
     "output_type": "stream",
     "text": [
      "[[ True  True  True]\n",
      " [False  True  True]]\n"
     ]
    }
   ],
   "source": [
    "X = tf.constant( [[-1, -2, -3], [0, 1, 2]] )\n",
    "Y = tf.zeros_like(X)\n",
    "out = tf.not_equal(X, Y)\n",
    "print(out.eval())\n",
    "_X = np.array([[-1, -2, -3], [0, 1, 2]])\n",
    "_Y = np.zeros_like(_X)\n",
    "assert np.allclose(out.eval(), np.not_equal(_X, _Y))\n",
    "# tf.not_equal == np.not_equal"
   ]
  },
  {
   "cell_type": "markdown",
   "metadata": {},
   "source": [
    "Q7. Let X be a tensor [[-1, -2, -3], [0, 1, 2]] and Y be a tensor of zeros with the same shape as X. Return a boolean tensor that yields True if X is greater than or equal to Y elementwise."
   ]
  },
  {
   "cell_type": "code",
   "execution_count": 13,
   "metadata": {
    "collapsed": false
   },
   "outputs": [
    {
     "name": "stdout",
     "output_type": "stream",
     "text": [
      "[[False False False]\n",
      " [ True  True  True]]\n"
     ]
    }
   ],
   "source": [
    "X = tf.constant( [[-1, -2, -3], [0, 1, 2]] )\n",
    "Y = tf.zeros_like(X)\n",
    "out = tf.greater_equal(X, Y)\n",
    "out2 = tf.logical_not(tf.less(X, Y))\n",
    "assert np.allclose(out.eval(), out2.eval())\n",
    "print(out.eval())\n",
    "_X = np.array([[-1, -2, -3], [0, 1, 2]])\n",
    "_Y = np.zeros_like(_X)\n",
    "assert np.allclose(out.eval(), np.greater_equal(_X, _Y))\n",
    "# tf.great_equal == np.greater_equal"
   ]
  },
  {
   "cell_type": "markdown",
   "metadata": {},
   "source": [
    "Q8. Let X be a tensor [[1, 2], [3, 4]], Y be a tensor [[5, 6], [7, 8]], and Z be a boolean tensor [[True, False], [False, True]]. Create a 2*2 tensor such that each element corresponds to X if Z is True, otherise Y."
   ]
  },
  {
   "cell_type": "code",
   "execution_count": 14,
   "metadata": {
    "collapsed": false
   },
   "outputs": [
    {
     "name": "stdout",
     "output_type": "stream",
     "text": [
      "[[1 6]\n",
      " [7 4]]\n"
     ]
    }
   ],
   "source": [
    "X = tf.constant([[1, 2], [3, 4]])\n",
    "Y = tf.constant([[5, 6], [7, 8]])\n",
    "Z = tf.constant([[True, False], [False, True]], tf.bool)\n",
    "out = tf.where(Z, X, Y)\n",
    "print(out.eval())\n"
   ]
  },
  {
   "cell_type": "code",
   "execution_count": null,
   "metadata": {
    "collapsed": true
   },
   "outputs": [],
   "source": []
  }
 ],
 "metadata": {
  "anaconda-cloud": {},
  "kernelspec": {
   "display_name": "Python [conda root]",
   "language": "python",
   "name": "conda-root-py"
  },
  "language_info": {
   "codemirror_mode": {
    "name": "ipython",
    "version": 3
   },
   "file_extension": ".py",
   "mimetype": "text/x-python",
   "name": "python",
   "nbconvert_exporter": "python",
   "pygments_lexer": "ipython3",
   "version": "3.5.2"
  }
 },
 "nbformat": 4,
 "nbformat_minor": 0
}
