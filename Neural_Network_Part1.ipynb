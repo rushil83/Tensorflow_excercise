{
 "cells": [
  {
   "cell_type": "markdown",
   "metadata": {
    "deletable": true,
    "editable": true
   },
   "source": [
    "# Neural Network"
   ]
  },
  {
   "cell_type": "code",
   "execution_count": 1,
   "metadata": {
    "collapsed": true,
    "deletable": true,
    "editable": true
   },
   "outputs": [],
   "source": [
    "from __future__ import print_function\n",
    "import numpy as np\n",
    "import tensorflow as tf\n",
    "import matplotlib.pyplot as plt\n",
    "%matplotlib inline"
   ]
  },
  {
   "cell_type": "code",
   "execution_count": 31,
   "metadata": {
    "collapsed": false,
    "deletable": true,
    "editable": true
   },
   "outputs": [
    {
     "data": {
      "text/plain": [
       "datetime.date(2017, 2, 28)"
      ]
     },
     "execution_count": 31,
     "metadata": {},
     "output_type": "execute_result"
    }
   ],
   "source": [
    "from datetime import date\n",
    "date.today()"
   ]
  },
  {
   "cell_type": "code",
   "execution_count": 32,
   "metadata": {
    "collapsed": true,
    "deletable": true,
    "editable": true
   },
   "outputs": [],
   "source": [
    "author = \"kyubyong. https://github.com/Kyubyong/tensorflow-exercises\""
   ]
  },
  {
   "cell_type": "code",
   "execution_count": 33,
   "metadata": {
    "collapsed": false,
    "deletable": true,
    "editable": true
   },
   "outputs": [
    {
     "data": {
      "text/plain": [
       "'1.0.0'"
      ]
     },
     "execution_count": 33,
     "metadata": {},
     "output_type": "execute_result"
    }
   ],
   "source": [
    "tf.__version__"
   ]
  },
  {
   "cell_type": "code",
   "execution_count": 34,
   "metadata": {
    "collapsed": false,
    "deletable": true,
    "editable": true
   },
   "outputs": [
    {
     "data": {
      "text/plain": [
       "'1.12.0'"
      ]
     },
     "execution_count": 34,
     "metadata": {},
     "output_type": "execute_result"
    }
   ],
   "source": [
    "np.__version__"
   ]
  },
  {
   "cell_type": "markdown",
   "metadata": {
    "deletable": true,
    "editable": true
   },
   "source": [
    "# Activation Functions"
   ]
  },
  {
   "cell_type": "markdown",
   "metadata": {
    "deletable": true,
    "editable": true
   },
   "source": [
    "Q1. Apply `relu`, `elu`, and `softplus` to `x`."
   ]
  },
  {
   "cell_type": "code",
   "execution_count": 3,
   "metadata": {
    "collapsed": false,
    "deletable": true,
    "editable": true
   },
   "outputs": [
    {
     "data": {
      "image/png": "[encoded data removed]",
      "text/plain": [
       "<matplotlib.figure.Figure at 0x7f598001da50>"
      ]
     },
     "metadata": {},
     "output_type": "display_data"
    }
   ],
   "source": [
    "_x = np.linspace(-10., 10., 1000)\n",
    "x = tf.convert_to_tensor(_x)\n",
    "\n",
    "relu = ...\n",
    "elu = ...\n",
    "softplus = ...\n",
    "\n",
    "with tf.Session() as sess:\n",
    "    _relu, _elu, _softplus = sess.run([relu, elu, softplus])\n",
    "    plt.plot(_x, _relu, label='relu')\n",
    "    plt.plot(_x, _elu, label='elu')\n",
    "    plt.plot(_x, _softplus, label='softplus')\n",
    "    plt.legend(bbox_to_anchor=(0.5, 1.0))\n",
    "    plt.show()"
   ]
  },
  {
   "cell_type": "markdown",
   "metadata": {
    "deletable": true,
    "editable": true
   },
   "source": [
    "Q2. Apply `sigmoid` and `tanh` to x."
   ]
  },
  {
   "cell_type": "code",
   "execution_count": 28,
   "metadata": {
    "collapsed": false,
    "deletable": true,
    "editable": true
   },
   "outputs": [
    {
     "data": {
      "image/png": "[encoded data removed]",
      "text/plain": [
       "<matplotlib.figure.Figure at 0x7f597fce72d0>"
      ]
     },
     "metadata": {},
     "output_type": "display_data"
    }
   ],
   "source": [
    "_x = np.linspace(-10., 10., 1000)\n",
    "x = tf.convert_to_tensor(_x)\n",
    "\n",
    "sigmoid = ...\n",
    "tanh = ...\n",
    "\n",
    "with tf.Session() as sess:\n",
    "    _sigmoid, _tanh = sess.run([sigmoid, tanh])\n",
    "    plt.plot(_x, _sigmoid, label='sigmoid')\n",
    "    plt.plot(_x, _tanh, label='tanh')\n",
    "    plt.legend(bbox_to_anchor=(0.5, 1.0))\n",
    "    plt.grid()\n",
    "    plt.show()"
   ]
  },
  {
   "cell_type": "markdown",
   "metadata": {
    "deletable": true,
    "editable": true
   },
   "source": [
    "Q3. Apply `softmax` to x."
   ]
  },
  {
   "cell_type": "code",
   "execution_count": 5,
   "metadata": {
    "collapsed": false,
    "deletable": true,
    "editable": true
   },
   "outputs": [
    {
     "name": "stdout",
     "output_type": "stream",
     "text": [
      "[[  8.92509008e-04   2.42609112e-03   1.79265216e-02   9.78754938e-01]\n",
      " [  2.14400887e-03   1.58422012e-02   1.17058903e-01   8.64954829e-01]]\n"
     ]
    }
   ],
   "source": [
    "_x = np.array([[1, 2, 4, 8], [2, 4, 6, 8]], dtype=np.float32)\n",
    "x = tf.convert_to_tensor(_x)\n",
    "out = ...\n",
    "with tf.Session() as sess:\n",
    "    _out = sess.run(out)\n",
    "    print(_out)    \n",
    "    assert np.allclose(np.sum(_out, axis=-1), 1)"
   ]
  },
  {
   "cell_type": "markdown",
   "metadata": {
    "deletable": true,
    "editable": true
   },
   "source": [
    "Q4. Apply `dropout` with keep_prob=.5 to x."
   ]
  },
  {
   "cell_type": "code",
   "execution_count": 6,
   "metadata": {
    "collapsed": false,
    "deletable": true,
    "editable": true
   },
   "outputs": [
    {
     "name": "stdout",
     "output_type": "stream",
     "text": [
      "_x =\n",
      " [[ 1.  2.  4.  8.]\n",
      " [ 2.  4.  6.  8.]]\n",
      "_out =\n",
      " [[  2.   4.   8.  16.]\n",
      " [  4.   0.   0.  16.]]\n"
     ]
    }
   ],
   "source": [
    "_x = np.array([[1, 2, 4, 8], [2, 4, 6, 8]], dtype=np.float32)\n",
    "print(\"_x =\\n\" , _x)\n",
    "x = tf.convert_to_tensor(_x)\n",
    "out = ...\n",
    "with tf.Session() as sess:\n",
    "    _out = sess.run(out)\n",
    "    print(\"_out =\\n\", _out) "
   ]
  },
  {
   "cell_type": "markdown",
   "metadata": {
    "deletable": true,
    "editable": true
   },
   "source": [
    "# Fully Connected"
   ]
  },
  {
   "cell_type": "markdown",
   "metadata": {
    "deletable": true,
    "editable": true
   },
   "source": [
    "Q5. Apply a fully connected layer to x with 2 outputs and then an sigmoid function."
   ]
  },
  {
   "cell_type": "code",
   "execution_count": 3,
   "metadata": {
    "collapsed": false,
    "deletable": true,
    "editable": true
   },
   "outputs": [
    {
     "name": "stdout",
     "output_type": "stream",
     "text": [
      "[[ 0.77683932  0.37980947]\n",
      " [ 0.27589312  0.8126893 ]\n",
      " [ 0.36492586  0.35784346]\n",
      " [ 0.88072854  0.71423841]\n",
      " [ 0.01438356  0.47667173]\n",
      " [ 0.63429254  0.45833236]\n",
      " [ 0.36451232  0.83774436]\n",
      " [ 0.14801691  0.61023575]]\n"
     ]
    }
   ],
   "source": [
    "x = tf.random_normal([8, 10])\n"
   ]
  },
  {
   "cell_type": "markdown",
   "metadata": {
    "deletable": true,
    "editable": true
   },
   "source": [
    "## Convolution"
   ]
  },
  {
   "cell_type": "markdown",
   "metadata": {
    "deletable": true,
    "editable": true
   },
   "source": [
    "Q6. Apply 2 kernels of width-height (2, 2), stride 1, and same padding to x."
   ]
  },
  {
   "cell_type": "code",
   "execution_count": 7,
   "metadata": {
    "collapsed": true,
    "deletable": true,
    "editable": true
   },
   "outputs": [],
   "source": [
    "tf.reset_default_graph()"
   ]
  },
  {
   "cell_type": "code",
   "execution_count": 8,
   "metadata": {
    "collapsed": false,
    "deletable": true,
    "editable": true
   },
   "outputs": [
    {
     "name": "stdout",
     "output_type": "stream",
     "text": [
      "(2, 3, 3, 2)\n"
     ]
    }
   ],
   "source": [
    "x = tf.random_uniform(shape=(2, 3, 3, 3), dtype=tf.float32)\n",
    "filter = tf.get_variable(\"filter\", shape=..., dtype=tf.float32, \n",
    "                    initializer=tf.random_uniform_initializer())\n",
    "out = ...\n",
    "init = tf.global_variables_initializer()\n",
    "with tf.Session() as sess:\n",
    "    sess.run(init)\n",
    "    _out = sess.run(out)\n",
    "    print(_out.shape)"
   ]
  },
  {
   "cell_type": "markdown",
   "metadata": {
    "deletable": true,
    "editable": true
   },
   "source": [
    "Q7. Apply 3 kernels of width-height (2, 2), stride 1, dilation_rate 2 and valid padding to x."
   ]
  },
  {
   "cell_type": "code",
   "execution_count": 9,
   "metadata": {
    "collapsed": true,
    "deletable": true,
    "editable": true
   },
   "outputs": [],
   "source": [
    "tf.reset_default_graph()"
   ]
  },
  {
   "cell_type": "code",
   "execution_count": 10,
   "metadata": {
    "collapsed": false,
    "deletable": true,
    "editable": true
   },
   "outputs": [
    {
     "name": "stdout",
     "output_type": "stream",
     "text": [
      "(4, 8, 8, 2)\n"
     ]
    }
   ],
   "source": [
    "x = tf.random_uniform(shape=(4, 10, 10, 3), dtype=tf.float32)\n",
    "filter = tf.get_variable(\"filter\", shape=..., dtype=tf.float32, \n",
    "                    initializer=tf.random_uniform_initializer())\n",
    "out = ...\n",
    "init = tf.global_variables_initializer()\n",
    "with tf.Session() as sess:\n",
    "    sess.run(init)\n",
    "    _out = sess.run(out)\n",
    "    print(_out.shape)"
   ]
  },
  {
   "cell_type": "markdown",
   "metadata": {
    "deletable": true,
    "editable": true
   },
   "source": [
    "Q8. Apply 4 kernels of width-height (3, 3), stride 2, and same padding to x."
   ]
  },
  {
   "cell_type": "code",
   "execution_count": 11,
   "metadata": {
    "collapsed": true,
    "deletable": true,
    "editable": true
   },
   "outputs": [],
   "source": [
    "tf.reset_default_graph()"
   ]
  },
  {
   "cell_type": "code",
   "execution_count": 12,
   "metadata": {
    "collapsed": false,
    "deletable": true,
    "editable": true
   },
   "outputs": [
    {
     "name": "stdout",
     "output_type": "stream",
     "text": [
      "(4, 5, 5, 4)\n"
     ]
    }
   ],
   "source": [
    "x = tf.random_uniform(shape=(4, 10, 10, 5), dtype=tf.float32)\n",
    "filter = tf.get_variable(\"filter\", shape=..., dtype=tf.float32, \n",
    "                    initializer=tf.random_uniform_initializer())\n",
    "out = ...\n",
    "init = tf.global_variables_initializer()\n",
    "with tf.Session() as sess:\n",
    "    sess.run(init)\n",
    "    _out = sess.run(out)\n",
    "    print(_out.shape)"
   ]
  },
  {
   "cell_type": "markdown",
   "metadata": {
    "deletable": true,
    "editable": true
   },
   "source": [
    "Q9. Apply 4 times of kernels of width-height (3, 3), stride 2, and same padding to x, depth-wise."
   ]
  },
  {
   "cell_type": "code",
   "execution_count": 13,
   "metadata": {
    "collapsed": true,
    "deletable": true,
    "editable": true
   },
   "outputs": [],
   "source": [
    "tf.reset_default_graph()"
   ]
  },
  {
   "cell_type": "code",
   "execution_count": 14,
   "metadata": {
    "collapsed": false,
    "deletable": true,
    "editable": true
   },
   "outputs": [
    {
     "name": "stdout",
     "output_type": "stream",
     "text": [
      "(4, 5, 5, 20)\n"
     ]
    }
   ],
   "source": [
    "x = tf.random_uniform(shape=(4, 10, 10, 5), dtype=tf.float32)\n",
    "filter = tf.get_variable(\"filter\", shape=..., dtype=tf.float32, \n",
    "                    initializer=tf.random_uniform_initializer())\n",
    "out = ...\n",
    "init = tf.global_variables_initializer()\n",
    "with tf.Session() as sess:\n",
    "    sess.run(init)\n",
    "    _out = sess.run(out)\n",
    "    print(_out.shape)"
   ]
  },
  {
   "cell_type": "markdown",
   "metadata": {
    "deletable": true,
    "editable": true
   },
   "source": [
    "Q10. Apply 5 kernels of height 3, stride 2, and valid padding to x."
   ]
  },
  {
   "cell_type": "code",
   "execution_count": 15,
   "metadata": {
    "collapsed": true,
    "deletable": true,
    "editable": true
   },
   "outputs": [],
   "source": [
    "tf.reset_default_graph()"
   ]
  },
  {
   "cell_type": "code",
   "execution_count": 16,
   "metadata": {
    "collapsed": false,
    "deletable": true,
    "editable": true
   },
   "outputs": [
    {
     "name": "stdout",
     "output_type": "stream",
     "text": [
      "(4, 4, 5)\n"
     ]
    }
   ],
   "source": [
    "x = tf.random_uniform(shape=(4, 10, 5), dtype=tf.float32)\n",
    "filter = tf.get_variable(\"filter\", shape=..., dtype=tf.float32, \n",
    "                    initializer=tf.random_uniform_initializer())\n",
    "out = ...\n",
    "init = tf.global_variables_initializer()\n",
    "with tf.Session() as sess:\n",
    "    sess.run(init)\n",
    "    _out = sess.run(out)\n",
    "    print(_out.shape)"
   ]
  },
  {
   "cell_type": "markdown",
   "metadata": {
    "deletable": true,
    "editable": true
   },
   "source": [
    "Q11. Apply conv2d transpose with 5 kernels of width-height (3, 3), stride 2, and same padding to x."
   ]
  },
  {
   "cell_type": "code",
   "execution_count": 17,
   "metadata": {
    "collapsed": true,
    "deletable": true,
    "editable": true
   },
   "outputs": [],
   "source": [
    "tf.reset_default_graph()"
   ]
  },
  {
   "cell_type": "code",
   "execution_count": 18,
   "metadata": {
    "collapsed": false,
    "deletable": true,
    "editable": true
   },
   "outputs": [
    {
     "name": "stdout",
     "output_type": "stream",
     "text": [
      "(4, 10, 10, 5)\n"
     ]
    }
   ],
   "source": [
    "x = tf.random_uniform(shape=(4, 5, 5, 4), dtype=tf.float32)\n",
    "filter = tf.get_variable(\"filter\", shape=..., dtype=tf.float32, \n",
    "                    initializer=tf.random_uniform_initializer())\n",
    "shp = x.get_shape().as_list()\n",
    "output_shape = ...\n",
    "out = ...\n",
    "init = tf.global_variables_initializer()\n",
    "with tf.Session() as sess:\n",
    "    sess.run(init)\n",
    "    _out = sess.run(out)\n",
    "    print(_out.shape)"
   ]
  },
  {
   "cell_type": "markdown",
   "metadata": {
    "deletable": true,
    "editable": true
   },
   "source": [
    "Q12. Apply conv2d transpose with 5 kernels of width-height (3, 3), stride 2, and valid padding to x."
   ]
  },
  {
   "cell_type": "code",
   "execution_count": 19,
   "metadata": {
    "collapsed": true,
    "deletable": true,
    "editable": true
   },
   "outputs": [],
   "source": [
    "tf.reset_default_graph()"
   ]
  },
  {
   "cell_type": "code",
   "execution_count": 2,
   "metadata": {
    "collapsed": false,
    "deletable": true,
    "editable": true
   },
   "outputs": [
    {
     "name": "stdout",
     "output_type": "stream",
     "text": [
      "(4, 11, 11, 5)\n"
     ]
    }
   ],
   "source": [
    "x = tf.random_uniform(shape=(4, 5, 5, 4), dtype=tf.float32)\n",
    "filter = tf.get_variable(\"filter\", shape=(3, 3, 5, 4), dtype=tf.float32, \n",
    "                    initializer=tf.random_uniform_initializer())\n",
    "shp = x.get_shape().as_list()\n",
    "output_shape = ...\n",
    "out = ...\n",
    "init = tf.global_variables_initializer()\n",
    "with tf.Session() as sess:\n",
    "    sess.run(init)\n",
    "    _out = sess.run(out)\n",
    "    print(_out.shape)"
   ]
  },
  {
   "cell_type": "markdown",
   "metadata": {
    "deletable": true,
    "editable": true
   },
   "source": [
    "Q13. Apply max pooling and average pooling of window size 2, stride 1, and valid padding to x."
   ]
  },
  {
   "cell_type": "code",
   "execution_count": 35,
   "metadata": {
    "collapsed": false,
    "deletable": true,
    "editable": true
   },
   "outputs": [
    {
     "name": "stdout",
     "output_type": "stream",
     "text": [
      "1st channel of x =\n",
      " [[[ 1.  2.  3.]\n",
      "  [ 4.  5.  6.]\n",
      "  [ 7.  8.  9.]]]\n",
      "\n",
      "2nd channel of x =\n",
      " [[[ 10.  11.  12.]\n",
      "  [ 13.  14.  15.]\n",
      "  [ 16.  17.  18.]]]\n",
      "\n",
      "3rd channel of x =\n",
      " [[[ 19.  20.  21.]\n",
      "  [ 22.  23.  24.]\n",
      "  [ 25.  26.  27.]]]\n",
      "\n",
      "1st channel of max pooling =\n",
      " [[[ 5.  6.]\n",
      "  [ 8.  9.]]]\n",
      "\n",
      "2nd channel of max pooling =\n",
      " [[[ 14.  15.]\n",
      "  [ 17.  18.]]]\n",
      "\n",
      "3rd channel of max pooling =\n",
      " [[[ 23.  24.]\n",
      "  [ 26.  27.]]]\n",
      "\n",
      "1st channel of avg pooling =\n",
      " [[[ 3.  4.]\n",
      "  [ 6.  7.]]]\n",
      "\n",
      "2nd channel of avg pooling =\n",
      " [[[ 12.  13.]\n",
      "  [ 15.  16.]]]\n",
      "\n",
      "3rd channel of avg pooling =\n",
      " [[[ 21.  22.]\n",
      "  [ 24.  25.]]]\n"
     ]
    }
   ],
   "source": [
    "_x = np.zeros((1, 3, 3, 3), dtype=np.float32)\n",
    "_x[0, :, :, 0] = np.arange(1, 10, dtype=np.float32).reshape(3, 3)\n",
    "_x[0, :, :, 1] = np.arange(10, 19, dtype=np.float32).reshape(3, 3)\n",
    "_x[0, :, :, 2] = np.arange(19, 28, dtype=np.float32).reshape(3, 3)\n",
    "print(\"1st channel of x =\\n\", _x[:, :, :, 0])\n",
    "print(\"\\n2nd channel of x =\\n\", _x[:, :, :, 1])\n",
    "print(\"\\n3rd channel of x =\\n\", _x[:, :, :, 2])\n",
    "x = tf.constant(_x)\n",
    "\n",
    "maxpool = ...\n",
    "avgpool = ...\n",
    "with tf.Session() as sess:\n",
    "    _maxpool, _avgpool = sess.run([maxpool, avgpool])\n",
    "    print(\"\\n1st channel of max pooling =\\n\", _maxpool[:, :, :, 0])\n",
    "    print(\"\\n2nd channel of max pooling =\\n\", _maxpool[:, :, :, 1])\n",
    "    print(\"\\n3rd channel of max pooling =\\n\", _maxpool[:, :, :, 2])\n",
    "    print(\"\\n1st channel of avg pooling =\\n\", _avgpool[:, :, :, 0])\n",
    "    print(\"\\n2nd channel of avg pooling =\\n\", _avgpool[:, :, :, 1])\n",
    "    print(\"\\n3rd channel of avg pooling =\\n\", _avgpool[:, :, :, 2])"
   ]
  },
  {
   "cell_type": "code",
   "execution_count": null,
   "metadata": {
    "collapsed": true,
    "deletable": true,
    "editable": true
   },
   "outputs": [],
   "source": []
  }
 ],
 "metadata": {
  "anaconda-cloud": {},
  "kernelspec": {
   "display_name": "Python 2",
   "language": "python",
   "name": "python2"
  },
  "language_info": {
   "codemirror_mode": {
    "name": "ipython",
    "version": 2
   },
   "file_extension": ".py",
   "mimetype": "text/x-python",
   "name": "python",
   "nbconvert_exporter": "python",
   "pygments_lexer": "ipython2",
   "version": "2.7.6"
  }
 },
 "nbformat": 4,
 "nbformat_minor": 1
}
